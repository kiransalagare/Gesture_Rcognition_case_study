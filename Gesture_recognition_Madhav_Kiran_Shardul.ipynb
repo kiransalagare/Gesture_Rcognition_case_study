{
 "cells": [
  {
   "cell_type": "markdown",
   "id": "43a04473",
   "metadata": {},
   "source": [
    "# Gesture Recognition #\n",
    "\n",
    "In this group project, you are going to build a 3D Conv model that will be able to predict the 5 gestures correctly. Please import the following libraries to get started."
   ]
  },
  {
   "cell_type": "code",
   "execution_count": 1,
   "id": "52939d1e",
   "metadata": {},
   "outputs": [],
   "source": [
    "import numpy as np\n",
    "import os\n",
    "from skimage.transform import resize as imresize\n",
    "from imageio import imread\n",
    "import datetime"
   ]
  },
  {
   "cell_type": "markdown",
   "id": "5d03afb2",
   "metadata": {},
   "source": [
    "We set the random seed so that the results don't vary drastically."
   ]
  },
  {
   "cell_type": "code",
   "execution_count": 2,
   "id": "2a5322b9",
   "metadata": {},
   "outputs": [],
   "source": [
    "np.random.seed(30)\n",
    "import random as rn\n",
    "import keras as Keras\n",
    "rn.seed(30)\n",
    "from keras import backend as K\n",
    "import tensorflow as tf\n",
    "tf.random.set_seed(30)"
   ]
  },
  {
   "cell_type": "markdown",
   "id": "ced19841",
   "metadata": {},
   "source": [
    "In this block, you read the folder names for training and validation. You also set the batch_size here. Note that you set the batch size in such a way that you are able to use the GPU in full capacity. You keep increasing the batch size until the machine throws an error."
   ]
  },
  {
   "cell_type": "code",
   "execution_count": 4,
   "id": "02a98e7f",
   "metadata": {},
   "outputs": [],
   "source": [
    "train_doc = np.random.permutation(open('/datasets/Project_data/train.csv').readlines())\n",
    "val_doc = np.random.permutation(open('/datasets/Project_data/val.csv').readlines())\n",
    "batch_size = 32"
   ]
  },
  {
   "cell_type": "markdown",
   "id": "57c321bc",
   "metadata": {},
   "source": [
    "# Generator # \n",
    "\n",
    "This is one of the most important part of the code. The overall structure of the generator has been given. In the generator, you are going to preprocess the images as you have images of 2 different dimensions as well as create a batch of video frames. You have to experiment with img_idx, y,z and normalization such that you get high accuracy."
   ]
  },
  {
   "cell_type": "code",
   "execution_count": 5,
   "id": "5482fb7d",
   "metadata": {},
   "outputs": [],
   "source": [
    "def generator(source_path, folder_list, batch_size):\n",
    "    print( 'Source path = ', source_path, '; batch size =', batch_size)\n",
    "    img_idx = [0,1,2,4,6,8,10,12,14,16,18,20,22,24,26,27,28,29]\n",
    "    while True:\n",
    "        t = np.random.permutation(folder_list)\n",
    "        num_batches = int(len(t)/batch_size)\n",
    "        for batch in range(num_batches): # we iterate over the number of batches\n",
    "            batch_data = np.zeros((batch_size,18,84,84,3)) # x is the number of images you use for each video, (y,z) is the final size of the input images and 3 is the number of channels RGB\n",
    "            batch_labels = np.zeros((batch_size,5)) # batch_labels is the one hot representation of the output\n",
    "            for folder in range(batch_size): # iterate over the batch_size\n",
    "                imgs = os.listdir(source_path+'/'+ t[folder + (batch*batch_size)].split(';')[0]) # read all the images in the folder\n",
    "                for idx,item in enumerate(img_idx): #  Iterate iver the frames/images of a folder to read them in\n",
    "                    image = imread(source_path+'/'+ t[folder + (batch*batch_size)].strip().split(';')[0]+'/'+imgs[item]).astype(np.float32)\n",
    "                    if image.shape[1] == 160:\n",
    "                        image = imresize(image[:,20:140,:],(84,84)).astype(np.float32)\n",
    "                    else: \n",
    "                        image = imresize(image,(84,84)).astype(np.float32)\n",
    "                    \n",
    "                    batch_data[folder,idx,:,:,0] /= 255\n",
    "                    batch_data[folder,idx,:,:,1] /= 255\n",
    "                    batch_data[folder,idx,:,:,2] /= 255\n",
    "                    \n",
    "                batch_labels[folder, int(t[folder + (batch*batch_size)].strip().split(';')[2])] = 1\n",
    "            yield batch_data, batch_labels \n",
    "\n",
    "        \n",
    "        # write the code for the remaining data points which are left after full batches\n",
    "        if (len(t)%batch_size) != 0:\n",
    "            batch_data = np.zeros((len(t)%batch_size,18,84,84,3))\n",
    "            batch_labels = np.zeros((len(t)%batch_size,5))\n",
    "            for folder in range(len(t)%batch_size):\n",
    "                imgs = os.listdir(source_path+'/'+ t[folder + (num_batches*batch_size)].split(';')[0])\n",
    "                for idx, item in enumerate(img_idx):\n",
    "                    image = imread(source_path+'/'+t[folder + (num_batches*batch_size)].strip().split(';')[0]+'/'+imgs[item]).astype(np.float32)\n",
    "                    if image.shape[1] == 160:\n",
    "                        image = imresize(image[:,20:140,:],(84,84)).astype(np.float32)\n",
    "                    else:\n",
    "                        image = imresize(image,(84,84)).astype(np.float32)\n",
    "                        \n",
    "                    batch_data[folder,idx,:,:,0] /= 255 \n",
    "                    batch_data[folder,idx,:,:,1] /= 255 \n",
    "                    batch_data[folder,idx,:,:,2] /= 255\n",
    "                    \n",
    "                batch_labels[folder, int(t[folder + (num_batches*batch_size)].strip().split(';')[2])] = 1\n",
    "            \n",
    "            yield batch_data, batch_labels"
   ]
  },
  {
   "cell_type": "markdown",
   "id": "d5772b99",
   "metadata": {},
   "source": [
    "Note here that a video is represented above in the generator as (number of images, height, width, number of channels). Take this into consideration while creating the model architecture."
   ]
  },
  {
   "cell_type": "code",
   "execution_count": 7,
   "id": "933783be",
   "metadata": {},
   "outputs": [
    {
     "name": "stdout",
     "output_type": "stream",
     "text": [
      "# training sequences = 663\n",
      "# validation sequences = 100\n",
      "# epochs = 30\n"
     ]
    }
   ],
   "source": [
    "curr_dt_time = datetime.datetime.now()\n",
    "train_path = '/datasets/Project_data/train'\n",
    "val_path = '/datasets/Project_data/val'\n",
    "num_train_sequences = len(train_doc)\n",
    "print('# training sequences =', num_train_sequences)\n",
    "num_val_sequences = len(val_doc)\n",
    "print('# validation sequences =', num_val_sequences)\n",
    "num_epochs = 30\n",
    "print ('# epochs =', num_epochs)"
   ]
  },
  {
   "cell_type": "markdown",
   "id": "3401bdd0",
   "metadata": {},
   "source": [
    "# Model # \n",
    "\n",
    "Here you make the model using different functionalities that Keras provides. Remember to use Conv3D and MaxPooling3D and not Conv2D and Maxpooling2D for a 3D convolution model. You would want to use TimeDistributed while building a Conv2D + RNN model. Also remember that the last layer is the softmax. Design the network in such a way that the model is able to give good accuracy on the least number of parameters so that it can fit in the memory of the webcam."
   ]
  },
  {
   "cell_type": "code",
   "execution_count": 8,
   "id": "17ec9e9b",
   "metadata": {},
   "outputs": [
    {
     "name": "stderr",
     "output_type": "stream",
     "text": [
      "2023-05-28 13:21:45.286456: W tensorflow/core/common_runtime/gpu/gpu_bfc_allocator.cc:39] Overriding allow_growth setting because the TF_FORCE_GPU_ALLOW_GROWTH environment variable is set. Original config value was 0.\n",
      "2023-05-28 13:21:45.286536: I tensorflow/core/common_runtime/gpu/gpu_device.cc:1525] Created device /job:localhost/replica:0/task:0/device:GPU:0 with 14802 MB memory:  -> device: 0, name: Quadro RTX 5000, pci bus id: 0000:1c:00.0, compute capability: 7.5\n"
     ]
    }
   ],
   "source": [
    "from keras.models import Sequential, Model\n",
    "from keras.layers import Dense, GRU, Flatten, TimeDistributed, Flatten, BatchNormalization, Activation, Dropout\n",
    "from keras.layers.convolutional import Conv3D, MaxPooling3D\n",
    "from keras.callbacks import ModelCheckpoint, ReduceLROnPlateau\n",
    "from keras import optimizers\n",
    "\n",
    "#write your model here\n",
    "model = Sequential()\n",
    "model.add(Conv3D(64, (3,3,3), strides=(1,1,1), padding='same', input_shape=(18,84,84,3)))\n",
    "model.add(BatchNormalization())\n",
    "model.add(Activation('relu'))\n",
    "model.add(MaxPooling3D(pool_size=(2,2,1), strides=(2,2,1)))\n",
    "\n",
    "model.add(Conv3D(128, (3,3,3), strides=(1,1,1), padding='same'))\n",
    "model.add(BatchNormalization())\n",
    "model.add(Activation('relu'))\n",
    "model.add(MaxPooling3D(pool_size=(2,2,2), strides=(2,2,2)))\n",
    "\n",
    "model.add(Conv3D(256, (3,3,3), strides=(1,1,1), padding='same'))\n",
    "model.add(BatchNormalization())\n",
    "model.add(Activation('relu'))\n",
    "model.add(MaxPooling3D(pool_size=(2,2,2), strides=(2,2,2)))\n",
    "\n",
    "model.add(Flatten())\n",
    "model.add(Dropout(0.5))\n",
    "model.add(Dense(512, activation='relu'))\n",
    "model.add(Dropout(0.5))\n",
    "model.add(Dense(5, activation='softmax'))"
   ]
  },
  {
   "cell_type": "markdown",
   "id": "53ed598d",
   "metadata": {},
   "source": [
    "Now that you have written the model, the next step is to compile the model. When you print the summary of the model, you'll see the total number of parameters you have to train."
   ]
  },
  {
   "cell_type": "code",
   "execution_count": 10,
   "id": "0737b711",
   "metadata": {},
   "outputs": [
    {
     "name": "stdout",
     "output_type": "stream",
     "text": [
      "Model: \"sequential\"\n",
      "_________________________________________________________________\n",
      " Layer (type)                Output Shape              Param #   \n",
      "=================================================================\n",
      " conv3d (Conv3D)             (None, 18, 84, 84, 64)    5248      \n",
      "                                                                 \n",
      " batch_normalization (BatchN  (None, 18, 84, 84, 64)   256       \n",
      " ormalization)                                                   \n",
      "                                                                 \n",
      " activation (Activation)     (None, 18, 84, 84, 64)    0         \n",
      "                                                                 \n",
      " max_pooling3d (MaxPooling3D  (None, 9, 42, 84, 64)    0         \n",
      " )                                                               \n",
      "                                                                 \n",
      " conv3d_1 (Conv3D)           (None, 9, 42, 84, 128)    221312    \n",
      "                                                                 \n",
      " batch_normalization_1 (Batc  (None, 9, 42, 84, 128)   512       \n",
      " hNormalization)                                                 \n",
      "                                                                 \n",
      " activation_1 (Activation)   (None, 9, 42, 84, 128)    0         \n",
      "                                                                 \n",
      " max_pooling3d_1 (MaxPooling  (None, 4, 21, 42, 128)   0         \n",
      " 3D)                                                             \n",
      "                                                                 \n",
      " conv3d_2 (Conv3D)           (None, 4, 21, 42, 256)    884992    \n",
      "                                                                 \n",
      " batch_normalization_2 (Batc  (None, 4, 21, 42, 256)   1024      \n",
      " hNormalization)                                                 \n",
      "                                                                 \n",
      " activation_2 (Activation)   (None, 4, 21, 42, 256)    0         \n",
      "                                                                 \n",
      " max_pooling3d_2 (MaxPooling  (None, 2, 10, 21, 256)   0         \n",
      " 3D)                                                             \n",
      "                                                                 \n",
      " flatten (Flatten)           (None, 107520)            0         \n",
      "                                                                 \n",
      " dropout (Dropout)           (None, 107520)            0         \n",
      "                                                                 \n",
      " dense (Dense)               (None, 512)               55050752  \n",
      "                                                                 \n",
      " dropout_1 (Dropout)         (None, 512)               0         \n",
      "                                                                 \n",
      " dense_1 (Dense)             (None, 5)                 2565      \n",
      "                                                                 \n",
      "=================================================================\n",
      "Total params: 56,166,661\n",
      "Trainable params: 56,165,765\n",
      "Non-trainable params: 896\n",
      "_________________________________________________________________\n",
      "None\n"
     ]
    },
    {
     "name": "stderr",
     "output_type": "stream",
     "text": [
      "/usr/local/lib/python3.8/dist-packages/keras/optimizer_v2/adam.py:105: UserWarning: The `lr` argument is deprecated, use `learning_rate` instead.\n",
      "  super(Adam, self).__init__(name, **kwargs)\n"
     ]
    }
   ],
   "source": [
    "optimiser = tf.keras.optimizers.Adam(lr=0.001)\n",
    "model.compile(optimizer=optimiser, loss='categorical_crossentropy', metrics=['categorical_accuracy'])\n",
    "print (model.summary())"
   ]
  },
  {
   "cell_type": "markdown",
   "id": "fdadf6dd",
   "metadata": {},
   "source": [
    "Let us create the train_generator and the val_generator which will be used in .fit_generator."
   ]
  },
  {
   "cell_type": "code",
   "execution_count": 11,
   "id": "8e6cb760",
   "metadata": {},
   "outputs": [],
   "source": [
    "train_generator = generator(train_path, train_doc, batch_size)\n",
    "val_generator = generator(val_path, val_doc, batch_size)"
   ]
  },
  {
   "cell_type": "code",
   "execution_count": 12,
   "id": "1c2a1a43",
   "metadata": {},
   "outputs": [
    {
     "name": "stdout",
     "output_type": "stream",
     "text": [
      "WARNING:tensorflow:`period` argument is deprecated. Please use `save_freq` to specify the frequency in number of batches seen.\n",
      "WARNING:tensorflow:`epsilon` argument is deprecated and will be removed, use `min_delta` instead.\n"
     ]
    }
   ],
   "source": [
    "model_name = 'model_init' + '_' + str(curr_dt_time).replace(' ','').replace(':','_') + '/'\n",
    "    \n",
    "if not os.path.exists(model_name):\n",
    "    os.mkdir(model_name)\n",
    "        \n",
    "filepath = model_name + 'model-{epoch:05d}-{loss:.5f}-{categorical_accuracy:.5f}-{val_loss:.5f}-{val_categorical_accuracy:.5f}.h5'\n",
    "\n",
    "checkpoint = ModelCheckpoint(filepath, monitor='val_loss', verbose=1, save_best_only=False, save_weights_only=False, mode='auto', period=1)\n",
    "\n",
    "LR = ReduceLROnPlateau(monitor = 'val_loss', factor = 0.1, patience = 10, verbose = 0, mode = \"auto\", epsilon = 1e-04, cooldown = 0, min_lr = 0)\n",
    "callbacks_list = [checkpoint, LR]"
   ]
  },
  {
   "cell_type": "markdown",
   "id": "15bd24ea",
   "metadata": {},
   "source": [
    "The steps_per_epoch and validation_steps are used by fit_generator to decide the number of next() calls it need to make."
   ]
  },
  {
   "cell_type": "code",
   "execution_count": 13,
   "id": "dfc30931",
   "metadata": {},
   "outputs": [],
   "source": [
    "if (num_train_sequences%batch_size) == 0:\n",
    "    steps_per_epoch = int(num_train_sequences/batch_size)\n",
    "else:\n",
    "    steps_per_epoch = (num_train_sequences//batch_size) + 1\n",
    "\n",
    "if (num_val_sequences%batch_size) == 0:\n",
    "    validation_steps = int(num_val_sequences/batch_size)\n",
    "else:\n",
    "    validation_steps = (num_val_sequences//batch_size) + 1"
   ]
  },
  {
   "cell_type": "markdown",
   "id": "64b135ff",
   "metadata": {},
   "source": [
    "Let us now fit the model. This will start training the model and with the help of the checkpoints, you'll be able to save the model at the end of each epoch."
   ]
  },
  {
   "cell_type": "code",
   "execution_count": 14,
   "id": "8b43b3d2",
   "metadata": {},
   "outputs": [
    {
     "name": "stderr",
     "output_type": "stream",
     "text": [
      "/tmp/ipykernel_308/385748685.py:1: UserWarning: `Model.fit_generator` is deprecated and will be removed in a future version. Please use `Model.fit`, which supports generators.\n",
      "  model.fit_generator(train_generator, steps_per_epoch=steps_per_epoch, epochs=num_epochs, verbose=1,\n"
     ]
    },
    {
     "name": "stdout",
     "output_type": "stream",
     "text": [
      "Source path =  /datasets/Project_data/train ; batch size = 32\n",
      "Epoch 1/30\n"
     ]
    },
    {
     "name": "stderr",
     "output_type": "stream",
     "text": [
      "2023-05-28 13:24:21.606349: I tensorflow/stream_executor/cuda/cuda_dnn.cc:377] Loaded cuDNN version 8302\n"
     ]
    },
    {
     "name": "stdout",
     "output_type": "stream",
     "text": [
      "21/21 [==============================] - ETA: 0s - loss: 1.6095 - categorical_accuracy: 0.1780Source path =  /datasets/Project_data/val ; batch size = 32\n",
      "\n",
      "Epoch 00001: saving model to model_init_2023-05-2813_20_45.915425/model-00001-1.60954-0.17798-1.60928-0.23000.h5\n",
      "21/21 [==============================] - 111s 5s/step - loss: 1.6095 - categorical_accuracy: 0.1780 - val_loss: 1.6093 - val_categorical_accuracy: 0.2300 - lr: 0.0010\n",
      "Epoch 2/30\n",
      "21/21 [==============================] - ETA: 0s - loss: 1.6095 - categorical_accuracy: 0.2066\n",
      "Epoch 00002: saving model to model_init_2023-05-2813_20_45.915425/model-00002-1.60945-0.20664-1.60918-0.19000.h5\n",
      "21/21 [==============================] - 99s 5s/step - loss: 1.6095 - categorical_accuracy: 0.2066 - val_loss: 1.6092 - val_categorical_accuracy: 0.1900 - lr: 0.0010\n",
      "Epoch 3/30\n",
      "21/21 [==============================] - ETA: 0s - loss: 1.6093 - categorical_accuracy: 0.2066\n",
      "Epoch 00003: saving model to model_init_2023-05-2813_20_45.915425/model-00003-1.60925-0.20664-1.60852-0.28000.h5\n",
      "21/21 [==============================] - 96s 5s/step - loss: 1.6093 - categorical_accuracy: 0.2066 - val_loss: 1.6085 - val_categorical_accuracy: 0.2800 - lr: 0.0010\n",
      "Epoch 4/30\n",
      "21/21 [==============================] - ETA: 0s - loss: 1.6092 - categorical_accuracy: 0.2066\n",
      "Epoch 00004: saving model to model_init_2023-05-2813_20_45.915425/model-00004-1.60921-0.20664-1.60850-0.24000.h5\n",
      "21/21 [==============================] - 93s 5s/step - loss: 1.6092 - categorical_accuracy: 0.2066 - val_loss: 1.6085 - val_categorical_accuracy: 0.2400 - lr: 0.0010\n",
      "Epoch 5/30\n",
      "21/21 [==============================] - ETA: 0s - loss: 1.6093 - categorical_accuracy: 0.1825\n",
      "Epoch 00005: saving model to model_init_2023-05-2813_20_45.915425/model-00005-1.60928-0.18250-1.60852-0.21000.h5\n",
      "21/21 [==============================] - 97s 5s/step - loss: 1.6093 - categorical_accuracy: 0.1825 - val_loss: 1.6085 - val_categorical_accuracy: 0.2100 - lr: 0.0010\n",
      "Epoch 6/30\n",
      "21/21 [==============================] - ETA: 0s - loss: 1.6091 - categorical_accuracy: 0.2036\n",
      "Epoch 00006: saving model to model_init_2023-05-2813_20_45.915425/model-00006-1.60907-0.20362-1.60761-0.21000.h5\n",
      "21/21 [==============================] - 98s 5s/step - loss: 1.6091 - categorical_accuracy: 0.2036 - val_loss: 1.6076 - val_categorical_accuracy: 0.2100 - lr: 0.0010\n",
      "Epoch 7/30\n",
      "21/21 [==============================] - ETA: 0s - loss: 1.6090 - categorical_accuracy: 0.2066\n",
      "Epoch 00007: saving model to model_init_2023-05-2813_20_45.915425/model-00007-1.60905-0.20664-1.60829-0.22000.h5\n",
      "21/21 [==============================] - 97s 5s/step - loss: 1.6090 - categorical_accuracy: 0.2066 - val_loss: 1.6083 - val_categorical_accuracy: 0.2200 - lr: 0.0010\n",
      "Epoch 8/30\n",
      "21/21 [==============================] - ETA: 0s - loss: 1.6090 - categorical_accuracy: 0.1855\n",
      "Epoch 00008: saving model to model_init_2023-05-2813_20_45.915425/model-00008-1.60901-0.18552-1.60770-0.23000.h5\n",
      "21/21 [==============================] - 94s 5s/step - loss: 1.6090 - categorical_accuracy: 0.1855 - val_loss: 1.6077 - val_categorical_accuracy: 0.2300 - lr: 0.0010\n",
      "Epoch 9/30\n",
      "21/21 [==============================] - ETA: 0s - loss: 1.6089 - categorical_accuracy: 0.2066\n",
      "Epoch 00009: saving model to model_init_2023-05-2813_20_45.915425/model-00009-1.60894-0.20664-1.60799-0.23000.h5\n",
      "21/21 [==============================] - 96s 5s/step - loss: 1.6089 - categorical_accuracy: 0.2066 - val_loss: 1.6080 - val_categorical_accuracy: 0.2300 - lr: 0.0010\n",
      "Epoch 10/30\n",
      "21/21 [==============================] - ETA: 0s - loss: 1.6089 - categorical_accuracy: 0.2066\n",
      "Epoch 00010: saving model to model_init_2023-05-2813_20_45.915425/model-00010-1.60890-0.20664-1.60697-0.22000.h5\n",
      "21/21 [==============================] - 97s 5s/step - loss: 1.6089 - categorical_accuracy: 0.2066 - val_loss: 1.6070 - val_categorical_accuracy: 0.2200 - lr: 0.0010\n",
      "Epoch 11/30\n",
      "21/21 [==============================] - ETA: 0s - loss: 1.6089 - categorical_accuracy: 0.2066\n",
      "Epoch 00011: saving model to model_init_2023-05-2813_20_45.915425/model-00011-1.60890-0.20664-1.60930-0.25000.h5\n",
      "21/21 [==============================] - 97s 5s/step - loss: 1.6089 - categorical_accuracy: 0.2066 - val_loss: 1.6093 - val_categorical_accuracy: 0.2500 - lr: 0.0010\n",
      "Epoch 12/30\n",
      "21/21 [==============================] - ETA: 0s - loss: 1.6089 - categorical_accuracy: 0.2066\n",
      "Epoch 00012: saving model to model_init_2023-05-2813_20_45.915425/model-00012-1.60889-0.20664-1.60720-0.24000.h5\n",
      "21/21 [==============================] - 93s 5s/step - loss: 1.6089 - categorical_accuracy: 0.2066 - val_loss: 1.6072 - val_categorical_accuracy: 0.2400 - lr: 0.0010\n",
      "Epoch 13/30\n",
      "21/21 [==============================] - ETA: 0s - loss: 1.6089 - categorical_accuracy: 0.1931\n",
      "Epoch 00013: saving model to model_init_2023-05-2813_20_45.915425/model-00013-1.60886-0.19306-1.60784-0.21000.h5\n",
      "21/21 [==============================] - 94s 5s/step - loss: 1.6089 - categorical_accuracy: 0.1931 - val_loss: 1.6078 - val_categorical_accuracy: 0.2100 - lr: 0.0010\n",
      "Epoch 14/30\n",
      "21/21 [==============================] - ETA: 0s - loss: 1.6088 - categorical_accuracy: 0.2066\n",
      "Epoch 00014: saving model to model_init_2023-05-2813_20_45.915425/model-00014-1.60884-0.20664-1.60525-0.26000.h5\n",
      "21/21 [==============================] - 97s 5s/step - loss: 1.6088 - categorical_accuracy: 0.2066 - val_loss: 1.6052 - val_categorical_accuracy: 0.2600 - lr: 0.0010\n",
      "Epoch 15/30\n",
      "21/21 [==============================] - ETA: 0s - loss: 1.6088 - categorical_accuracy: 0.2066\n",
      "Epoch 00015: saving model to model_init_2023-05-2813_20_45.915425/model-00015-1.60883-0.20664-1.61154-0.20000.h5\n",
      "21/21 [==============================] - 99s 5s/step - loss: 1.6088 - categorical_accuracy: 0.2066 - val_loss: 1.6115 - val_categorical_accuracy: 0.2000 - lr: 0.0010\n",
      "Epoch 16/30\n",
      "21/21 [==============================] - ETA: 0s - loss: 1.6088 - categorical_accuracy: 0.1825\n",
      "Epoch 00016: saving model to model_init_2023-05-2813_20_45.915425/model-00016-1.60879-0.18250-1.60596-0.22000.h5\n",
      "21/21 [==============================] - 92s 5s/step - loss: 1.6088 - categorical_accuracy: 0.1825 - val_loss: 1.6060 - val_categorical_accuracy: 0.2200 - lr: 0.0010\n",
      "Epoch 17/30\n",
      "21/21 [==============================] - ETA: 0s - loss: 1.6088 - categorical_accuracy: 0.2081\n",
      "Epoch 00017: saving model to model_init_2023-05-2813_20_45.915425/model-00017-1.60879-0.20814-1.60757-0.23000.h5\n",
      "21/21 [==============================] - 96s 5s/step - loss: 1.6088 - categorical_accuracy: 0.2081 - val_loss: 1.6076 - val_categorical_accuracy: 0.2300 - lr: 0.0010\n",
      "Epoch 18/30\n",
      "21/21 [==============================] - ETA: 0s - loss: 1.6088 - categorical_accuracy: 0.2066\n",
      "Epoch 00018: saving model to model_init_2023-05-2813_20_45.915425/model-00018-1.60884-0.20664-1.60583-0.28000.h5\n",
      "21/21 [==============================] - 97s 5s/step - loss: 1.6088 - categorical_accuracy: 0.2066 - val_loss: 1.6058 - val_categorical_accuracy: 0.2800 - lr: 0.0010\n",
      "Epoch 19/30\n",
      "21/21 [==============================] - ETA: 0s - loss: 1.6088 - categorical_accuracy: 0.2066\n",
      "Epoch 00019: saving model to model_init_2023-05-2813_20_45.915425/model-00019-1.60877-0.20664-1.60913-0.22000.h5\n",
      "21/21 [==============================] - 98s 5s/step - loss: 1.6088 - categorical_accuracy: 0.2066 - val_loss: 1.6091 - val_categorical_accuracy: 0.2200 - lr: 0.0010\n",
      "Epoch 20/30\n",
      "21/21 [==============================] - ETA: 0s - loss: 1.6087 - categorical_accuracy: 0.2066\n",
      "Epoch 00020: saving model to model_init_2023-05-2813_20_45.915425/model-00020-1.60869-0.20664-1.60729-0.24000.h5\n",
      "21/21 [==============================] - 94s 5s/step - loss: 1.6087 - categorical_accuracy: 0.2066 - val_loss: 1.6073 - val_categorical_accuracy: 0.2400 - lr: 0.0010\n",
      "Epoch 21/30\n",
      "21/21 [==============================] - ETA: 0s - loss: 1.6087 - categorical_accuracy: 0.2066\n",
      "Epoch 00021: saving model to model_init_2023-05-2813_20_45.915425/model-00021-1.60871-0.20664-1.60740-0.23000.h5\n",
      "21/21 [==============================] - 97s 5s/step - loss: 1.6087 - categorical_accuracy: 0.2066 - val_loss: 1.6074 - val_categorical_accuracy: 0.2300 - lr: 0.0010\n",
      "Epoch 22/30\n",
      "21/21 [==============================] - ETA: 0s - loss: 1.6087 - categorical_accuracy: 0.1840\n",
      "Epoch 00022: saving model to model_init_2023-05-2813_20_45.915425/model-00022-1.60875-0.18401-1.61026-0.19000.h5\n",
      "21/21 [==============================] - 97s 5s/step - loss: 1.6087 - categorical_accuracy: 0.1840 - val_loss: 1.6103 - val_categorical_accuracy: 0.1900 - lr: 0.0010\n",
      "Epoch 23/30\n",
      "21/21 [==============================] - ETA: 0s - loss: 1.6087 - categorical_accuracy: 0.1946\n",
      "Epoch 00023: saving model to model_init_2023-05-2813_20_45.915425/model-00023-1.60870-0.19457-1.60457-0.31000.h5\n",
      "21/21 [==============================] - 97s 5s/step - loss: 1.6087 - categorical_accuracy: 0.1946 - val_loss: 1.6046 - val_categorical_accuracy: 0.3100 - lr: 0.0010\n",
      "Epoch 24/30\n",
      "21/21 [==============================] - ETA: 0s - loss: 1.6087 - categorical_accuracy: 0.1946\n",
      "Epoch 00024: saving model to model_init_2023-05-2813_20_45.915425/model-00024-1.60875-0.19457-1.60660-0.23000.h5\n",
      "21/21 [==============================] - 93s 5s/step - loss: 1.6087 - categorical_accuracy: 0.1946 - val_loss: 1.6066 - val_categorical_accuracy: 0.2300 - lr: 0.0010\n",
      "Epoch 25/30\n",
      "21/21 [==============================] - ETA: 0s - loss: 1.6087 - categorical_accuracy: 0.2006\n",
      "Epoch 00025: saving model to model_init_2023-05-2813_20_45.915425/model-00025-1.60871-0.20060-1.60720-0.23000.h5\n",
      "21/21 [==============================] - 96s 5s/step - loss: 1.6087 - categorical_accuracy: 0.2006 - val_loss: 1.6072 - val_categorical_accuracy: 0.2300 - lr: 0.0010\n",
      "Epoch 26/30\n",
      "21/21 [==============================] - ETA: 0s - loss: 1.6087 - categorical_accuracy: 0.2066\n",
      "Epoch 00026: saving model to model_init_2023-05-2813_20_45.915425/model-00026-1.60870-0.20664-1.60525-0.22000.h5\n",
      "21/21 [==============================] - 97s 5s/step - loss: 1.6087 - categorical_accuracy: 0.2066 - val_loss: 1.6053 - val_categorical_accuracy: 0.2200 - lr: 0.0010\n",
      "Epoch 27/30\n",
      "21/21 [==============================] - ETA: 0s - loss: 1.6087 - categorical_accuracy: 0.2066\n",
      "Epoch 00027: saving model to model_init_2023-05-2813_20_45.915425/model-00027-1.60865-0.20664-1.60778-0.20000.h5\n",
      "21/21 [==============================] - 97s 5s/step - loss: 1.6087 - categorical_accuracy: 0.2066 - val_loss: 1.6078 - val_categorical_accuracy: 0.2000 - lr: 0.0010\n",
      "Epoch 28/30\n",
      "21/21 [==============================] - ETA: 0s - loss: 1.6087 - categorical_accuracy: 0.1885\n",
      "Epoch 00028: saving model to model_init_2023-05-2813_20_45.915425/model-00028-1.60870-0.18854-1.60862-0.19000.h5\n",
      "21/21 [==============================] - 92s 5s/step - loss: 1.6087 - categorical_accuracy: 0.1885 - val_loss: 1.6086 - val_categorical_accuracy: 0.1900 - lr: 0.0010\n",
      "Epoch 29/30\n",
      "21/21 [==============================] - ETA: 0s - loss: 1.6087 - categorical_accuracy: 0.2021\n",
      "Epoch 00029: saving model to model_init_2023-05-2813_20_45.915425/model-00029-1.60866-0.20211-1.60716-0.23000.h5\n",
      "21/21 [==============================] - 97s 5s/step - loss: 1.6087 - categorical_accuracy: 0.2021 - val_loss: 1.6072 - val_categorical_accuracy: 0.2300 - lr: 0.0010\n",
      "Epoch 30/30\n",
      "21/21 [==============================] - ETA: 0s - loss: 1.6087 - categorical_accuracy: 0.2066\n",
      "Epoch 00030: saving model to model_init_2023-05-2813_20_45.915425/model-00030-1.60866-0.20664-1.60269-0.28000.h5\n",
      "21/21 [==============================] - 97s 5s/step - loss: 1.6087 - categorical_accuracy: 0.2066 - val_loss: 1.6027 - val_categorical_accuracy: 0.2800 - lr: 0.0010\n"
     ]
    },
    {
     "data": {
      "text/plain": [
       "<keras.callbacks.History at 0x7fc889fee100>"
      ]
     },
     "execution_count": 14,
     "metadata": {},
     "output_type": "execute_result"
    }
   ],
   "source": [
    "model.fit_generator(train_generator, steps_per_epoch=steps_per_epoch, epochs=num_epochs, verbose=1, \n",
    "                    callbacks=callbacks_list, validation_data=val_generator, \n",
    "                    validation_steps=validation_steps, class_weight=None, workers=1, initial_epoch=0)"
   ]
  },
  {
   "cell_type": "markdown",
   "id": "adba4513",
   "metadata": {},
   "source": [
    "# Model Conv2D + LSTM #"
   ]
  },
  {
   "cell_type": "code",
   "execution_count": 16,
   "id": "a2e43a2e",
   "metadata": {},
   "outputs": [
    {
     "name": "stdout",
     "output_type": "stream",
     "text": [
      "Model: \"sequential_1\"\n",
      "_________________________________________________________________\n",
      " Layer (type)                Output Shape              Param #   \n",
      "=================================================================\n",
      " time_distributed (TimeDistr  (None, 18, 42, 42, 32)   4736      \n",
      " ibuted)                                                         \n",
      "                                                                 \n",
      " time_distributed_1 (TimeDis  (None, 18, 40, 40, 32)   9248      \n",
      " tributed)                                                       \n",
      "                                                                 \n",
      " time_distributed_2 (TimeDis  (None, 18, 20, 20, 32)   0         \n",
      " tributed)                                                       \n",
      "                                                                 \n",
      " time_distributed_3 (TimeDis  (None, 18, 20, 20, 64)   18496     \n",
      " tributed)                                                       \n",
      "                                                                 \n",
      " time_distributed_4 (TimeDis  (None, 18, 20, 20, 64)   36928     \n",
      " tributed)                                                       \n",
      "                                                                 \n",
      " time_distributed_5 (TimeDis  (None, 18, 10, 10, 64)   0         \n",
      " tributed)                                                       \n",
      "                                                                 \n",
      " time_distributed_6 (TimeDis  (None, 18, 10, 10, 128)  73856     \n",
      " tributed)                                                       \n",
      "                                                                 \n",
      " time_distributed_7 (TimeDis  (None, 18, 10, 10, 128)  147584    \n",
      " tributed)                                                       \n",
      "                                                                 \n",
      " time_distributed_8 (TimeDis  (None, 18, 5, 5, 128)    0         \n",
      " tributed)                                                       \n",
      "                                                                 \n",
      " time_distributed_9 (TimeDis  (None, 18, 5, 5, 256)    295168    \n",
      " tributed)                                                       \n",
      "                                                                 \n",
      " time_distributed_10 (TimeDi  (None, 18, 5, 5, 256)    590080    \n",
      " stributed)                                                      \n",
      "                                                                 \n",
      " time_distributed_11 (TimeDi  (None, 18, 2, 2, 256)    0         \n",
      " stributed)                                                      \n",
      "                                                                 \n",
      " time_distributed_12 (TimeDi  (None, 18, 2, 2, 512)    1180160   \n",
      " stributed)                                                      \n",
      "                                                                 \n",
      " time_distributed_13 (TimeDi  (None, 18, 2, 2, 512)    2359808   \n",
      " stributed)                                                      \n",
      "                                                                 \n",
      " time_distributed_14 (TimeDi  (None, 18, 1, 1, 512)    0         \n",
      " stributed)                                                      \n",
      "                                                                 \n",
      " time_distributed_15 (TimeDi  (None, 18, 512)          0         \n",
      " stributed)                                                      \n",
      "                                                                 \n",
      " dropout_2 (Dropout)         (None, 18, 512)           0         \n",
      "                                                                 \n",
      " lstm (LSTM)                 (None, 512)               2099200   \n",
      "                                                                 \n",
      " dense_2 (Dense)             (None, 5)                 2565      \n",
      "                                                                 \n",
      "=================================================================\n",
      "Total params: 6,817,829\n",
      "Trainable params: 6,817,829\n",
      "Non-trainable params: 0\n",
      "_________________________________________________________________\n"
     ]
    }
   ],
   "source": [
    "from keras.models import Sequential, Model\n",
    "from keras.layers import Conv2D,MaxPooling2D\n",
    "from keras.callbacks import ModelCheckpoint, ReduceLROnPlateau\n",
    "from keras.layers import Dense, GRU, Flatten, TimeDistributed, Flatten, BatchNormalization, Activation, Dropout, LSTM, Bidirectional\n",
    "\n",
    "Input_shape_1 = (18, 84, 84, 3)\n",
    "model=Sequential()\n",
    "model.add(TimeDistributed(Conv2D(32, (7,7), strides=(2,2), activation='relu',padding='same'), input_shape=Input_shape_1))\n",
    "model.add(TimeDistributed(Conv2D(32, (3,3), kernel_initializer=\"he_normal\", activation='relu')))\n",
    "model.add(TimeDistributed(MaxPooling2D((2,2), strides=(2,2))))\n",
    "\n",
    "model.add(TimeDistributed(Conv2D(64, (3,3), padding='same', activation='relu')))\n",
    "model.add(TimeDistributed(Conv2D(64, (3,3), padding='same', activation='relu')))\n",
    "model.add(TimeDistributed(MaxPooling2D((2,2), strides=(2,2))))\n",
    "\n",
    "model.add(TimeDistributed(Conv2D(128, (3,3), padding='same', activation='relu')))\n",
    "model.add(TimeDistributed(Conv2D(128, (3,3), padding='same', activation='relu')))\n",
    "model.add(TimeDistributed(MaxPooling2D((2,2), strides=(2,2))))\n",
    "\n",
    "model.add(TimeDistributed(Conv2D(256, (3,3), padding='same', activation='relu')))\n",
    "model.add(TimeDistributed(Conv2D(256, (3,3), padding='same', activation='relu')))\n",
    "model.add(TimeDistributed(MaxPooling2D((2,2), strides=(2,2))))\n",
    "\n",
    "model.add(TimeDistributed(Conv2D(512, (3,3), padding='same', activation='relu')))\n",
    "model.add(TimeDistributed(Conv2D(512, (3,3), padding='same', activation='relu')))\n",
    "model.add(TimeDistributed(MaxPooling2D((2,2), strides=(2,2))))\n",
    "\n",
    "model.add(TimeDistributed(Flatten()))\n",
    "\n",
    "model.add(Dropout(0.5))\n",
    "model.add(LSTM(512, return_sequences=False, dropout=0.5))\n",
    "model.add(Dense(5, activation='softmax'))\n",
    "model.summary()"
   ]
  },
  {
   "cell_type": "code",
   "execution_count": 17,
   "id": "d6b9e933",
   "metadata": {},
   "outputs": [
    {
     "name": "stdout",
     "output_type": "stream",
     "text": [
      "Model: \"sequential_1\"\n",
      "_________________________________________________________________\n",
      " Layer (type)                Output Shape              Param #   \n",
      "=================================================================\n",
      " time_distributed (TimeDistr  (None, 18, 42, 42, 32)   4736      \n",
      " ibuted)                                                         \n",
      "                                                                 \n",
      " time_distributed_1 (TimeDis  (None, 18, 40, 40, 32)   9248      \n",
      " tributed)                                                       \n",
      "                                                                 \n",
      " time_distributed_2 (TimeDis  (None, 18, 20, 20, 32)   0         \n",
      " tributed)                                                       \n",
      "                                                                 \n",
      " time_distributed_3 (TimeDis  (None, 18, 20, 20, 64)   18496     \n",
      " tributed)                                                       \n",
      "                                                                 \n",
      " time_distributed_4 (TimeDis  (None, 18, 20, 20, 64)   36928     \n",
      " tributed)                                                       \n",
      "                                                                 \n",
      " time_distributed_5 (TimeDis  (None, 18, 10, 10, 64)   0         \n",
      " tributed)                                                       \n",
      "                                                                 \n",
      " time_distributed_6 (TimeDis  (None, 18, 10, 10, 128)  73856     \n",
      " tributed)                                                       \n",
      "                                                                 \n",
      " time_distributed_7 (TimeDis  (None, 18, 10, 10, 128)  147584    \n",
      " tributed)                                                       \n",
      "                                                                 \n",
      " time_distributed_8 (TimeDis  (None, 18, 5, 5, 128)    0         \n",
      " tributed)                                                       \n",
      "                                                                 \n",
      " time_distributed_9 (TimeDis  (None, 18, 5, 5, 256)    295168    \n",
      " tributed)                                                       \n",
      "                                                                 \n",
      " time_distributed_10 (TimeDi  (None, 18, 5, 5, 256)    590080    \n",
      " stributed)                                                      \n",
      "                                                                 \n",
      " time_distributed_11 (TimeDi  (None, 18, 2, 2, 256)    0         \n",
      " stributed)                                                      \n",
      "                                                                 \n",
      " time_distributed_12 (TimeDi  (None, 18, 2, 2, 512)    1180160   \n",
      " stributed)                                                      \n",
      "                                                                 \n",
      " time_distributed_13 (TimeDi  (None, 18, 2, 2, 512)    2359808   \n",
      " stributed)                                                      \n",
      "                                                                 \n",
      " time_distributed_14 (TimeDi  (None, 18, 1, 1, 512)    0         \n",
      " stributed)                                                      \n",
      "                                                                 \n",
      " time_distributed_15 (TimeDi  (None, 18, 512)          0         \n",
      " stributed)                                                      \n",
      "                                                                 \n",
      " dropout_2 (Dropout)         (None, 18, 512)           0         \n",
      "                                                                 \n",
      " lstm (LSTM)                 (None, 512)               2099200   \n",
      "                                                                 \n",
      " dense_2 (Dense)             (None, 5)                 2565      \n",
      "                                                                 \n",
      "=================================================================\n",
      "Total params: 6,817,829\n",
      "Trainable params: 6,817,829\n",
      "Non-trainable params: 0\n",
      "_________________________________________________________________\n",
      "None\n"
     ]
    }
   ],
   "source": [
    "model.compile(optimizer='sgd', loss='categorical_crossentropy', metrics=['categorical_accuracy'])\n",
    "print (model.summary())"
   ]
  },
  {
   "cell_type": "code",
   "execution_count": 18,
   "id": "f63381c5",
   "metadata": {},
   "outputs": [],
   "source": [
    "train_generator = generator(train_path, train_doc, batch_size)\n",
    "val_generator = generator(val_path, val_doc, batch_size)"
   ]
  },
  {
   "cell_type": "code",
   "execution_count": 19,
   "id": "583c29d5",
   "metadata": {},
   "outputs": [
    {
     "name": "stdout",
     "output_type": "stream",
     "text": [
      "WARNING:tensorflow:`period` argument is deprecated. Please use `save_freq` to specify the frequency in number of batches seen.\n",
      "WARNING:tensorflow:`epsilon` argument is deprecated and will be removed, use `min_delta` instead.\n"
     ]
    }
   ],
   "source": [
    "model_name = 'model_init' + '_' + str(curr_dt_time).replace(' ','').replace(':','_') + '/'\n",
    "    \n",
    "if not os.path.exists(model_name):\n",
    "    os.mkdir(model_name)\n",
    "        \n",
    "filepath = model_name + 'model-{epoch:05d}-{loss:.5f}-{categorical_accuracy:.5f}-{val_loss:.5f}-{val_categorical_accuracy:.5f}.h5'\n",
    "\n",
    "checkpoint = ModelCheckpoint(filepath, monitor='val_loss', verbose=1, save_best_only=False, save_weights_only=False, mode='auto', period=1)\n",
    "\n",
    "LR = ReduceLROnPlateau(monitor = 'val_loss', factor = 0.1, patience = 10, verbose = 0, mode = \"auto\", epsilon = 1e-04, cooldown = 0, min_lr = 0)\n",
    "callbacks_list = [checkpoint, LR]"
   ]
  },
  {
   "cell_type": "code",
   "execution_count": 20,
   "id": "47fbc5fb",
   "metadata": {},
   "outputs": [],
   "source": [
    "if (num_train_sequences%batch_size) == 0:\n",
    "    steps_per_epoch = int(num_train_sequences/batch_size)\n",
    "else:\n",
    "    steps_per_epoch = (num_train_sequences//batch_size) + 1\n",
    "\n",
    "if (num_val_sequences%batch_size) == 0:\n",
    "    validation_steps = int(num_val_sequences/batch_size)\n",
    "else:\n",
    "    validation_steps = (num_val_sequences//batch_size) + 1"
   ]
  },
  {
   "cell_type": "code",
   "execution_count": 21,
   "id": "9619ebc0",
   "metadata": {},
   "outputs": [
    {
     "name": "stderr",
     "output_type": "stream",
     "text": [
      "/tmp/ipykernel_308/385748685.py:1: UserWarning: `Model.fit_generator` is deprecated and will be removed in a future version. Please use `Model.fit`, which supports generators.\n",
      "  model.fit_generator(train_generator, steps_per_epoch=steps_per_epoch, epochs=num_epochs, verbose=1,\n"
     ]
    },
    {
     "name": "stdout",
     "output_type": "stream",
     "text": [
      "Source path =  /datasets/Project_data/train ; batch size = 32\n",
      "Epoch 1/30\n",
      "21/21 [==============================] - ETA: 0s - loss: 1.6097 - categorical_accuracy: 0.1855Source path =  /datasets/Project_data/val ; batch size = 32\n",
      "\n",
      "Epoch 00001: saving model to model_init_2023-05-2813_20_45.915425/model-00001-1.60971-0.18552-1.60898-0.23000.h5\n",
      "21/21 [==============================] - 99s 5s/step - loss: 1.6097 - categorical_accuracy: 0.1855 - val_loss: 1.6090 - val_categorical_accuracy: 0.2300 - lr: 0.0100\n",
      "Epoch 2/30\n",
      "21/21 [==============================] - ETA: 0s - loss: 1.6095 - categorical_accuracy: 0.1750\n",
      "Epoch 00002: saving model to model_init_2023-05-2813_20_45.915425/model-00002-1.60955-0.17496-1.60942-0.21000.h5\n",
      "21/21 [==============================] - 97s 5s/step - loss: 1.6095 - categorical_accuracy: 0.1750 - val_loss: 1.6094 - val_categorical_accuracy: 0.2100 - lr: 0.0100\n",
      "Epoch 3/30\n",
      "21/21 [==============================] - ETA: 0s - loss: 1.6095 - categorical_accuracy: 0.1961\n",
      "Epoch 00003: saving model to model_init_2023-05-2813_20_45.915425/model-00003-1.60948-0.19608-1.60884-0.19000.h5\n",
      "21/21 [==============================] - 96s 5s/step - loss: 1.6095 - categorical_accuracy: 0.1961 - val_loss: 1.6088 - val_categorical_accuracy: 0.1900 - lr: 0.0100\n",
      "Epoch 4/30\n",
      "21/21 [==============================] - ETA: 0s - loss: 1.6089 - categorical_accuracy: 0.2006\n",
      "Epoch 00011: saving model to model_init_2023-05-2813_20_45.915425/model-00011-1.60891-0.20060-1.60789-0.23000.h5\n",
      "21/21 [==============================] - 96s 5s/step - loss: 1.6089 - categorical_accuracy: 0.2006 - val_loss: 1.6079 - val_categorical_accuracy: 0.2300 - lr: 0.0100\n",
      "Epoch 12/30\n",
      "21/21 [==============================] - ETA: 0s - loss: 1.6090 - categorical_accuracy: 0.1916\n",
      "Epoch 00012: saving model to model_init_2023-05-2813_20_45.915425/model-00012-1.60902-0.19155-1.60614-0.24000.h5\n",
      "21/21 [==============================] - 92s 5s/step - loss: 1.6090 - categorical_accuracy: 0.1916 - val_loss: 1.6061 - val_categorical_accuracy: 0.2400 - lr: 0.0100\n",
      "Epoch 13/30\n",
      "21/21 [==============================] - ETA: 0s - loss: 1.6090 - categorical_accuracy: 0.2006\n",
      "Epoch 00013: saving model to model_init_2023-05-2813_20_45.915425/model-00013-1.60898-0.20060-1.60734-0.23000.h5\n",
      "21/21 [==============================] - 95s 5s/step - loss: 1.6090 - categorical_accuracy: 0.2006 - val_loss: 1.6073 - val_categorical_accuracy: 0.2300 - lr: 0.0100\n",
      "Epoch 14/30\n",
      "21/21 [==============================] - ETA: 0s - loss: 1.6089 - categorical_accuracy: 0.1855\n",
      "Epoch 00014: saving model to model_init_2023-05-2813_20_45.915425/model-00014-1.60889-0.18552-1.60979-0.21000.h5\n",
      "21/21 [==============================] - 97s 5s/step - loss: 1.6089 - categorical_accuracy: 0.1855 - val_loss: 1.6098 - val_categorical_accuracy: 0.2100 - lr: 0.0100\n",
      "Epoch 15/30\n",
      "21/21 [==============================] - ETA: 0s - loss: 1.6091 - categorical_accuracy: 0.1900\n",
      "Epoch 00015: saving model to model_init_2023-05-2813_20_45.915425/model-00015-1.60906-0.19005-1.60344-0.25000.h5\n",
      "21/21 [==============================] - 97s 5s/step - loss: 1.6091 - categorical_accuracy: 0.1900 - val_loss: 1.6034 - val_categorical_accuracy: 0.2500 - lr: 0.0100\n",
      "Epoch 16/30\n",
      "21/21 [==============================] - ETA: 0s - loss: 1.6090 - categorical_accuracy: 0.1991\n",
      "Epoch 00016: saving model to model_init_2023-05-2813_20_45.915425/model-00016-1.60903-0.19910-1.60710-0.24000.h5\n",
      "21/21 [==============================] - 93s 5s/step - loss: 1.6090 - categorical_accuracy: 0.1991 - val_loss: 1.6071 - val_categorical_accuracy: 0.2400 - lr: 0.0100\n",
      "Epoch 17/30\n",
      "21/21 [==============================] - ETA: 0s - loss: 1.6090 - categorical_accuracy: 0.1916\n",
      "Epoch 00017: saving model to model_init_2023-05-2813_20_45.915425/model-00017-1.60897-0.19155-1.60702-0.23000.h5\n",
      "21/21 [==============================] - 96s 5s/step - loss: 1.6090 - categorical_accuracy: 0.1916 - val_loss: 1.6070 - val_categorical_accuracy: 0.2300 - lr: 0.0100\n",
      "Epoch 18/30\n",
      "21/21 [==============================] - ETA: 0s - loss: 1.6086 - categorical_accuracy: 0.2066\n",
      "Epoch 00018: saving model to model_init_2023-05-2813_20_45.915425/model-00018-1.60864-0.20664-1.61182-0.17000.h5\n",
      "21/21 [==============================] - 96s 5s/step - loss: 1.6086 - categorical_accuracy: 0.2066 - val_loss: 1.6118 - val_categorical_accuracy: 0.1700 - lr: 1.0000e-03\n",
      "Epoch 19/30\n",
      "21/21 [==============================] - ETA: 0s - loss: 1.6086 - categorical_accuracy: 0.2066\n",
      "Epoch 00019: saving model to model_init_2023-05-2813_20_45.915425/model-00019-1.60864-0.20664-1.60788-0.21000.h5\n",
      "21/21 [==============================] - 96s 5s/step - loss: 1.6086 - categorical_accuracy: 0.2066 - val_loss: 1.6079 - val_categorical_accuracy: 0.2100 - lr: 1.0000e-03\n",
      "Epoch 20/30\n",
      "21/21 [==============================] - ETA: 0s - loss: 1.6086 - categorical_accuracy: 0.2066\n",
      "Epoch 00020: saving model to model_init_2023-05-2813_20_45.915425/model-00020-1.60863-0.20664-1.60556-0.25000.h5\n",
      "21/21 [==============================] - 92s 5s/step - loss: 1.6086 - categorical_accuracy: 0.2066 - val_loss: 1.6056 - val_categorical_accuracy: 0.2500 - lr: 1.0000e-03\n",
      "Epoch 21/30\n",
      "21/21 [==============================] - ETA: 0s - loss: 1.6086 - categorical_accuracy: 0.2066\n",
      "Epoch 00021: saving model to model_init_2023-05-2813_20_45.915425/model-00021-1.60864-0.20664-1.60701-0.23000.h5\n",
      "21/21 [==============================] - 98s 5s/step - loss: 1.6086 - categorical_accuracy: 0.2066 - val_loss: 1.6070 - val_categorical_accuracy: 0.2300 - lr: 1.0000e-03\n",
      "Epoch 22/30\n",
      "21/21 [==============================] - ETA: 0s - loss: 1.6086 - categorical_accuracy: 0.2066\n",
      "Epoch 00022: saving model to model_init_2023-05-2813_20_45.915425/model-00022-1.60863-0.20664-1.60786-0.22000.h5\n",
      "21/21 [==============================] - 95s 5s/step - loss: 1.6086 - categorical_accuracy: 0.2066 - val_loss: 1.6079 - val_categorical_accuracy: 0.2200 - lr: 1.0000e-03\n",
      "Epoch 23/30\n",
      "21/21 [==============================] - ETA: 0s - loss: 1.6086 - categorical_accuracy: 0.2066\n",
      "Epoch 00023: saving model to model_init_2023-05-2813_20_45.915425/model-00023-1.60864-0.20664-1.60763-0.26000.h5\n",
      "21/21 [==============================] - 97s 5s/step - loss: 1.6086 - categorical_accuracy: 0.2066 - val_loss: 1.6076 - val_categorical_accuracy: 0.2600 - lr: 1.0000e-03\n",
      "Epoch 24/30\n",
      "21/21 [==============================] - ETA: 0s - loss: 1.6086 - categorical_accuracy: 0.2066\n",
      "Epoch 00024: saving model to model_init_2023-05-2813_20_45.915425/model-00024-1.60863-0.20664-1.60559-0.22000.h5\n",
      "21/21 [==============================] - 92s 5s/step - loss: 1.6086 - categorical_accuracy: 0.2066 - val_loss: 1.6056 - val_categorical_accuracy: 0.2200 - lr: 1.0000e-03\n",
      "Epoch 25/30\n",
      "21/21 [==============================] - ETA: 0s - loss: 1.6086 - categorical_accuracy: 0.2066\n",
      "Epoch 00025: saving model to model_init_2023-05-2813_20_45.915425/model-00025-1.60863-0.20664-1.60701-0.23000.h5\n",
      "21/21 [==============================] - 96s 5s/step - loss: 1.6086 - categorical_accuracy: 0.2066 - val_loss: 1.6070 - val_categorical_accuracy: 0.2300 - lr: 1.0000e-03\n",
      "Epoch 26/30\n",
      "21/21 [==============================] - ETA: 0s - loss: 1.6086 - categorical_accuracy: 0.2066\n",
      "Epoch 00026: saving model to model_init_2023-05-2813_20_45.915425/model-00026-1.60863-0.20664-1.60393-0.23000.h5\n",
      "21/21 [==============================] - 97s 5s/step - loss: 1.6086 - categorical_accuracy: 0.2066 - val_loss: 1.6039 - val_categorical_accuracy: 0.2300 - lr: 1.0000e-03\n",
      "Epoch 27/30\n",
      "21/21 [==============================] - ETA: 0s - loss: 1.6086 - categorical_accuracy: 0.2066\n",
      "Epoch 00027: saving model to model_init_2023-05-2813_20_45.915425/model-00027-1.60862-0.20664-1.60665-0.27000.h5\n",
      "21/21 [==============================] - 96s 5s/step - loss: 1.6086 - categorical_accuracy: 0.2066 - val_loss: 1.6067 - val_categorical_accuracy: 0.2700 - lr: 1.0000e-03\n",
      "Epoch 28/30\n",
      "21/21 [==============================] - ETA: 0s - loss: 1.6086 - categorical_accuracy: 0.2066\n",
      "Epoch 00028: saving model to model_init_2023-05-2813_20_45.915425/model-00028-1.60860-0.20664-1.60607-0.24000.h5\n",
      "21/21 [==============================] - 93s 5s/step - loss: 1.6086 - categorical_accuracy: 0.2066 - val_loss: 1.6061 - val_categorical_accuracy: 0.2400 - lr: 1.0000e-04\n",
      "Epoch 29/30\n",
      "21/21 [==============================] - ETA: 0s - loss: 1.6086 - categorical_accuracy: 0.2066\n",
      "Epoch 00029: saving model to model_init_2023-05-2813_20_45.915425/model-00029-1.60860-0.20664-1.60700-0.23000.h5\n",
      "21/21 [==============================] - 96s 5s/step - loss: 1.6086 - categorical_accuracy: 0.2066 - val_loss: 1.6070 - val_categorical_accuracy: 0.2300 - lr: 1.0000e-04\n",
      "Epoch 30/30\n",
      "21/21 [==============================] - ETA: 0s - loss: 1.6086 - categorical_accuracy: 0.2066\n",
      "Epoch 00030: saving model to model_init_2023-05-2813_20_45.915425/model-00030-1.60860-0.20664-1.60453-0.24000.h5\n",
      "21/21 [==============================] - 97s 5s/step - loss: 1.6086 - categorical_accuracy: 0.2066 - val_loss: 1.6045 - val_categorical_accuracy: 0.2400 - lr: 1.0000e-04\n"
     ]
    },
    {
     "data": {
      "text/plain": [
       "<keras.callbacks.History at 0x7fc8a36c7280>"
      ]
     },
     "execution_count": 21,
     "metadata": {},
     "output_type": "execute_result"
    }
   ],
   "source": [
    "model.fit_generator(train_generator, steps_per_epoch=steps_per_epoch, epochs=num_epochs, verbose=1, \n",
    "                    callbacks=callbacks_list, validation_data=val_generator, \n",
    "                    validation_steps=validation_steps, class_weight=None, workers=1, initial_epoch=0)"
   ]
  },
  {
   "cell_type": "code",
   "execution_count": null,
   "id": "c2aa2ef5",
   "metadata": {},
   "outputs": [],
   "source": []
  }
 ],
 "metadata": {
  "kernelspec": {
   "display_name": "Python 3 (ipykernel)",
   "language": "python",
   "name": "python3"
  },
  "language_info": {
   "codemirror_mode": {
    "name": "ipython",
    "version": 3
   },
   "file_extension": ".py",
   "mimetype": "text/x-python",
   "name": "python",
   "nbconvert_exporter": "python",
   "pygments_lexer": "ipython3",
   "version": "3.8.10"
  }
 },
 "nbformat": 4,
 "nbformat_minor": 5
}
